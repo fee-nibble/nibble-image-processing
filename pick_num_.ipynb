{
 "cells": [
  {
   "cell_type": "code",
   "execution_count": null,
   "id": "fb797690",
   "metadata": {},
   "outputs": [],
   "source": [
    "def pick_num():\n",
    "    import cv2\n",
    "    import numpy as np\n",
    "    import matplotlib.pyplot as plt\n",
    "    import pytesseract \n",
    "    points = find_ed()\n",
    "    img_ori = cv2.imread(\"../capture.jpg\")\n",
    "    x, y, w, h = divide_point(points[0])\n",
    "    img_ori = img_ori[y: h, x: w]\n",
    "    # img_ori = cv2.imread('img1.png')\n",
    "    height, width, channel = img_ori.shape\n",
    "    gray = cv2.cvtColor(img_ori, cv2.COLOR_BGR2GRAY)\n",
    "    \n",
    "    img_blurred = cv2.GaussianBlur(gray, ksize=(5, 5), sigmaX=0)\n",
    "    img_thresh = cv2.adaptiveThreshold(img_blurred, 255, cv2.ADAPTIVE_THRESH_MEAN_C, cv2.THRESH_BINARY, 21, 10)\n",
    "    invert = cv2.bitwise_not(img_thresh)\n",
    "    img_re = cv2.morphologyEx(invert, cv2.MORPH_TOPHAT, None)\n",
    "    kenels = np.ones((3, 3), np.uint8)\n",
    "    img_dil = cv2.dilate(invert, kenels, iterations=2)\n",
    "    cv2.imwrite('../cp.jpg', img_dil)"
   ]
  }
 ],
 "metadata": {
  "kernelspec": {
   "display_name": "Python 3 (ipykernel)",
   "language": "python",
   "name": "python3"
  },
  "language_info": {
   "codemirror_mode": {
    "name": "ipython",
    "version": 3
   },
   "file_extension": ".py",
   "mimetype": "text/x-python",
   "name": "python",
   "nbconvert_exporter": "python",
   "pygments_lexer": "ipython3",
   "version": "3.8.5"
  }
 },
 "nbformat": 4,
 "nbformat_minor": 5
}
